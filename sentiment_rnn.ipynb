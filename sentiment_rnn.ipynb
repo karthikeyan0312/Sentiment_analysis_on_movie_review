{
  "nbformat": 4,
  "nbformat_minor": 5,
  "metadata": {
    "kernelspec": {
      "display_name": "Python 3",
      "language": "python",
      "name": "python3"
    },
    "language_info": {
      "codemirror_mode": {
        "name": "ipython",
        "version": 3
      },
      "file_extension": ".py",
      "mimetype": "text/x-python",
      "name": "python",
      "nbconvert_exporter": "python",
      "pygments_lexer": "ipython3",
      "version": "3.7.10"
    },
    "papermill": {
      "default_parameters": {},
      "duration": 1768.704782,
      "end_time": "2021-07-30T04:53:32.969055",
      "environment_variables": {},
      "exception": null,
      "input_path": "__notebook__.ipynb",
      "output_path": "__notebook__.ipynb",
      "parameters": {},
      "start_time": "2021-07-30T04:24:04.264273",
      "version": "2.3.3"
    },
    "colab": {
      "name": "sentiment-rnn.ipynb",
      "provenance": []
    },
    "accelerator": "GPU"
  },
  "cells": [
    {
      "cell_type": "code",
      "metadata": {
        "_cell_guid": "b1076dfc-b9ad-4769-8c92-a6c4dae69d19",
        "_uuid": "8f2839f25d086af736a60e9eeb907d3b93b6e0e5",
        "execution": {
          "iopub.execute_input": "2021-07-30T04:24:11.000744Z",
          "iopub.status.busy": "2021-07-30T04:24:10.999941Z",
          "iopub.status.idle": "2021-07-30T04:24:11.004545Z",
          "shell.execute_reply": "2021-07-30T04:24:11.004909Z",
          "shell.execute_reply.started": "2021-07-30T03:45:39.916874Z"
        },
        "papermill": {
          "duration": 0.037895,
          "end_time": "2021-07-30T04:24:11.005135",
          "exception": false,
          "start_time": "2021-07-30T04:24:10.967240",
          "status": "completed"
        },
        "tags": [],
        "id": "sixth-geography"
      },
      "source": [
        "import numpy as np # linear algebra\n",
        "import pandas as pd # data processing, CSV file I/O (e.g. pd.read_csv)"
      ],
      "id": "sixth-geography",
      "execution_count": 2,
      "outputs": []
    },
    {
      "cell_type": "code",
      "metadata": {
        "execution": {
          "iopub.execute_input": "2021-07-30T04:24:11.055718Z",
          "iopub.status.busy": "2021-07-30T04:24:11.055097Z",
          "iopub.status.idle": "2021-07-30T04:24:11.299718Z",
          "shell.execute_reply": "2021-07-30T04:24:11.298798Z",
          "shell.execute_reply.started": "2021-07-30T03:45:39.933689Z"
        },
        "papermill": {
          "duration": 0.272789,
          "end_time": "2021-07-30T04:24:11.299899",
          "exception": false,
          "start_time": "2021-07-30T04:24:11.027110",
          "status": "completed"
        },
        "tags": [],
        "colab": {
          "base_uri": "https://localhost:8080/",
          "height": 203
        },
        "id": "experienced-healing",
        "outputId": "61c5ebb4-5126-4679-8b71-8116df9ee09f"
      },
      "source": [
        "#'../input/sentiment-analysis-on-movie-reviews/train.tsv.zip'\n",
        "train_data = pd.read_csv(\"/content/drive/MyDrive/sentiment analysis on movie reivew/train.tsv\", sep = '\\t')\n",
        "train_data.head()"
      ],
      "id": "experienced-healing",
      "execution_count": 3,
      "outputs": [
        {
          "output_type": "execute_result",
          "data": {
            "text/html": [
              "<div>\n",
              "<style scoped>\n",
              "    .dataframe tbody tr th:only-of-type {\n",
              "        vertical-align: middle;\n",
              "    }\n",
              "\n",
              "    .dataframe tbody tr th {\n",
              "        vertical-align: top;\n",
              "    }\n",
              "\n",
              "    .dataframe thead th {\n",
              "        text-align: right;\n",
              "    }\n",
              "</style>\n",
              "<table border=\"1\" class=\"dataframe\">\n",
              "  <thead>\n",
              "    <tr style=\"text-align: right;\">\n",
              "      <th></th>\n",
              "      <th>PhraseId</th>\n",
              "      <th>SentenceId</th>\n",
              "      <th>Phrase</th>\n",
              "      <th>Sentiment</th>\n",
              "    </tr>\n",
              "  </thead>\n",
              "  <tbody>\n",
              "    <tr>\n",
              "      <th>0</th>\n",
              "      <td>1</td>\n",
              "      <td>1</td>\n",
              "      <td>A series of escapades demonstrating the adage ...</td>\n",
              "      <td>1</td>\n",
              "    </tr>\n",
              "    <tr>\n",
              "      <th>1</th>\n",
              "      <td>2</td>\n",
              "      <td>1</td>\n",
              "      <td>A series of escapades demonstrating the adage ...</td>\n",
              "      <td>2</td>\n",
              "    </tr>\n",
              "    <tr>\n",
              "      <th>2</th>\n",
              "      <td>3</td>\n",
              "      <td>1</td>\n",
              "      <td>A series</td>\n",
              "      <td>2</td>\n",
              "    </tr>\n",
              "    <tr>\n",
              "      <th>3</th>\n",
              "      <td>4</td>\n",
              "      <td>1</td>\n",
              "      <td>A</td>\n",
              "      <td>2</td>\n",
              "    </tr>\n",
              "    <tr>\n",
              "      <th>4</th>\n",
              "      <td>5</td>\n",
              "      <td>1</td>\n",
              "      <td>series</td>\n",
              "      <td>2</td>\n",
              "    </tr>\n",
              "  </tbody>\n",
              "</table>\n",
              "</div>"
            ],
            "text/plain": [
              "   PhraseId  ...  Sentiment\n",
              "0         1  ...          1\n",
              "1         2  ...          2\n",
              "2         3  ...          2\n",
              "3         4  ...          2\n",
              "4         5  ...          2\n",
              "\n",
              "[5 rows x 4 columns]"
            ]
          },
          "metadata": {
            "tags": []
          },
          "execution_count": 3
        }
      ]
    },
    {
      "cell_type": "code",
      "metadata": {
        "execution": {
          "iopub.execute_input": "2021-07-30T04:24:11.346169Z",
          "iopub.status.busy": "2021-07-30T04:24:11.345584Z",
          "iopub.status.idle": "2021-07-30T04:24:11.444201Z",
          "shell.execute_reply": "2021-07-30T04:24:11.443504Z",
          "shell.execute_reply.started": "2021-07-30T03:46:09.828969Z"
        },
        "papermill": {
          "duration": 0.122767,
          "end_time": "2021-07-30T04:24:11.444354",
          "exception": false,
          "start_time": "2021-07-30T04:24:11.321587",
          "status": "completed"
        },
        "tags": [],
        "colab": {
          "base_uri": "https://localhost:8080/",
          "height": 203
        },
        "id": "moved-cooper",
        "outputId": "25d83bc8-2f30-4720-8ed0-e53420bf90cc"
      },
      "source": [
        "#'../input/sentiment-analysis-on-movie-reviews/test.tsv.zip'\n",
        "test_data = pd.read_csv(\"/content/drive/MyDrive/sentiment analysis on movie reivew/test.tsv\",sep = '\\t')\n",
        "test_data.head()"
      ],
      "id": "moved-cooper",
      "execution_count": 4,
      "outputs": [
        {
          "output_type": "execute_result",
          "data": {
            "text/html": [
              "<div>\n",
              "<style scoped>\n",
              "    .dataframe tbody tr th:only-of-type {\n",
              "        vertical-align: middle;\n",
              "    }\n",
              "\n",
              "    .dataframe tbody tr th {\n",
              "        vertical-align: top;\n",
              "    }\n",
              "\n",
              "    .dataframe thead th {\n",
              "        text-align: right;\n",
              "    }\n",
              "</style>\n",
              "<table border=\"1\" class=\"dataframe\">\n",
              "  <thead>\n",
              "    <tr style=\"text-align: right;\">\n",
              "      <th></th>\n",
              "      <th>PhraseId</th>\n",
              "      <th>SentenceId</th>\n",
              "      <th>Phrase</th>\n",
              "    </tr>\n",
              "  </thead>\n",
              "  <tbody>\n",
              "    <tr>\n",
              "      <th>0</th>\n",
              "      <td>156061</td>\n",
              "      <td>8545</td>\n",
              "      <td>An intermittently pleasing but mostly routine ...</td>\n",
              "    </tr>\n",
              "    <tr>\n",
              "      <th>1</th>\n",
              "      <td>156062</td>\n",
              "      <td>8545</td>\n",
              "      <td>An intermittently pleasing but mostly routine ...</td>\n",
              "    </tr>\n",
              "    <tr>\n",
              "      <th>2</th>\n",
              "      <td>156063</td>\n",
              "      <td>8545</td>\n",
              "      <td>An</td>\n",
              "    </tr>\n",
              "    <tr>\n",
              "      <th>3</th>\n",
              "      <td>156064</td>\n",
              "      <td>8545</td>\n",
              "      <td>intermittently pleasing but mostly routine effort</td>\n",
              "    </tr>\n",
              "    <tr>\n",
              "      <th>4</th>\n",
              "      <td>156065</td>\n",
              "      <td>8545</td>\n",
              "      <td>intermittently pleasing but mostly routine</td>\n",
              "    </tr>\n",
              "  </tbody>\n",
              "</table>\n",
              "</div>"
            ],
            "text/plain": [
              "   PhraseId  SentenceId                                             Phrase\n",
              "0    156061        8545  An intermittently pleasing but mostly routine ...\n",
              "1    156062        8545  An intermittently pleasing but mostly routine ...\n",
              "2    156063        8545                                                 An\n",
              "3    156064        8545  intermittently pleasing but mostly routine effort\n",
              "4    156065        8545         intermittently pleasing but mostly routine"
            ]
          },
          "metadata": {
            "tags": []
          },
          "execution_count": 4
        }
      ]
    },
    {
      "cell_type": "code",
      "metadata": {
        "execution": {
          "iopub.execute_input": "2021-07-30T04:24:11.530450Z",
          "iopub.status.busy": "2021-07-30T04:24:11.529580Z",
          "iopub.status.idle": "2021-07-30T04:24:11.559274Z",
          "shell.execute_reply": "2021-07-30T04:24:11.558589Z",
          "shell.execute_reply.started": "2021-07-30T03:51:56.935275Z"
        },
        "papermill": {
          "duration": 0.071534,
          "end_time": "2021-07-30T04:24:11.559437",
          "exception": false,
          "start_time": "2021-07-30T04:24:11.487903",
          "status": "completed"
        },
        "tags": [],
        "colab": {
          "base_uri": "https://localhost:8080/"
        },
        "id": "medical-transport",
        "outputId": "b16d9305-bf53-4ea2-a82e-80c8b5b218ea"
      },
      "source": [
        "train_data.info()"
      ],
      "id": "medical-transport",
      "execution_count": 5,
      "outputs": [
        {
          "output_type": "stream",
          "text": [
            "<class 'pandas.core.frame.DataFrame'>\n",
            "RangeIndex: 156060 entries, 0 to 156059\n",
            "Data columns (total 4 columns):\n",
            " #   Column      Non-Null Count   Dtype \n",
            "---  ------      --------------   ----- \n",
            " 0   PhraseId    156060 non-null  int64 \n",
            " 1   SentenceId  156060 non-null  int64 \n",
            " 2   Phrase      156060 non-null  object\n",
            " 3   Sentiment   156060 non-null  int64 \n",
            "dtypes: int64(3), object(1)\n",
            "memory usage: 4.8+ MB\n"
          ],
          "name": "stdout"
        }
      ]
    },
    {
      "cell_type": "code",
      "metadata": {
        "execution": {
          "iopub.execute_input": "2021-07-30T04:24:11.615777Z",
          "iopub.status.busy": "2021-07-30T04:24:11.614981Z",
          "iopub.status.idle": "2021-07-30T04:24:11.624890Z",
          "shell.execute_reply": "2021-07-30T04:24:11.624372Z",
          "shell.execute_reply.started": "2021-07-30T03:51:57.085638Z"
        },
        "papermill": {
          "duration": 0.041621,
          "end_time": "2021-07-30T04:24:11.625027",
          "exception": false,
          "start_time": "2021-07-30T04:24:11.583406",
          "status": "completed"
        },
        "tags": [],
        "colab": {
          "base_uri": "https://localhost:8080/"
        },
        "id": "dental-fifty",
        "outputId": "43b43abd-b747-4d97-a18d-e81e041faef0"
      },
      "source": [
        "test_data.info()"
      ],
      "id": "dental-fifty",
      "execution_count": 6,
      "outputs": [
        {
          "output_type": "stream",
          "text": [
            "<class 'pandas.core.frame.DataFrame'>\n",
            "RangeIndex: 66292 entries, 0 to 66291\n",
            "Data columns (total 3 columns):\n",
            " #   Column      Non-Null Count  Dtype \n",
            "---  ------      --------------  ----- \n",
            " 0   PhraseId    66292 non-null  int64 \n",
            " 1   SentenceId  66292 non-null  int64 \n",
            " 2   Phrase      66292 non-null  object\n",
            "dtypes: int64(2), object(1)\n",
            "memory usage: 1.5+ MB\n"
          ],
          "name": "stdout"
        }
      ]
    },
    {
      "cell_type": "code",
      "metadata": {
        "execution": {
          "iopub.execute_input": "2021-07-30T04:24:11.720152Z",
          "iopub.status.busy": "2021-07-30T04:24:11.719157Z",
          "iopub.status.idle": "2021-07-30T04:24:16.783421Z",
          "shell.execute_reply": "2021-07-30T04:24:16.782456Z",
          "shell.execute_reply.started": "2021-07-30T03:51:57.245186Z"
        },
        "papermill": {
          "duration": 5.1217,
          "end_time": "2021-07-30T04:24:16.783557",
          "exception": false,
          "start_time": "2021-07-30T04:24:11.661857",
          "status": "completed"
        },
        "tags": [],
        "id": "turkish-trauma"
      },
      "source": [
        "import matplotlib.pyplot as plt\n",
        "import tensorflow as tf"
      ],
      "id": "turkish-trauma",
      "execution_count": 7,
      "outputs": []
    },
    {
      "cell_type": "code",
      "metadata": {
        "execution": {
          "iopub.execute_input": "2021-07-30T04:24:16.843258Z",
          "iopub.status.busy": "2021-07-30T04:24:16.842618Z",
          "iopub.status.idle": "2021-07-30T04:24:16.894681Z",
          "shell.execute_reply": "2021-07-30T04:24:16.893499Z",
          "shell.execute_reply.started": "2021-07-30T03:52:02.366153Z"
        },
        "papermill": {
          "duration": 0.082719,
          "end_time": "2021-07-30T04:24:16.894805",
          "exception": false,
          "start_time": "2021-07-30T04:24:16.812086",
          "status": "completed"
        },
        "tags": [],
        "id": "living-trade"
      },
      "source": [
        "from keras.preprocessing.text import Tokenizer\n",
        "from keras.preprocessing.sequence import pad_sequences"
      ],
      "id": "living-trade",
      "execution_count": 8,
      "outputs": []
    },
    {
      "cell_type": "code",
      "metadata": {
        "execution": {
          "iopub.execute_input": "2021-07-30T04:24:18.773665Z",
          "iopub.status.busy": "2021-07-30T04:24:18.767247Z",
          "iopub.status.idle": "2021-07-30T04:24:18.778053Z",
          "shell.execute_reply": "2021-07-30T04:24:18.777648Z",
          "shell.execute_reply.started": "2021-07-30T03:52:02.422250Z"
        },
        "papermill": {
          "duration": 1.856621,
          "end_time": "2021-07-30T04:24:18.778194",
          "exception": false,
          "start_time": "2021-07-30T04:24:16.921573",
          "status": "completed"
        },
        "tags": [],
        "colab": {
          "base_uri": "https://localhost:8080/"
        },
        "id": "freelance-graham",
        "outputId": "650faeb4-8f50-4039-ce28-d86dde3da44f"
      },
      "source": [
        "print(\"TF version: \", tf.__version__)\n",
        "if tf.__version__ < \"2.0.0\":\n",
        "    tf.enable_eager_execution()\n",
        "    print(\"Eager execution enabled.\")\n",
        "else:\n",
        "    print(\"Eager execution enabled by default.\")\n",
        "\n",
        "if tf.test.gpu_device_name(): \n",
        "    print('Default GPU Device: {}'.format(tf.test.gpu_device_name()))\n",
        "else:\n",
        "   print(\"Please install GPU version of TF\")"
      ],
      "id": "freelance-graham",
      "execution_count": 9,
      "outputs": [
        {
          "output_type": "stream",
          "text": [
            "TF version:  2.5.0\n",
            "Eager execution enabled by default.\n",
            "Default GPU Device: /device:GPU:0\n"
          ],
          "name": "stdout"
        }
      ]
    },
    {
      "cell_type": "code",
      "metadata": {
        "execution": {
          "iopub.execute_input": "2021-07-30T04:24:18.827790Z",
          "iopub.status.busy": "2021-07-30T04:24:18.827047Z",
          "iopub.status.idle": "2021-07-30T04:24:18.831581Z",
          "shell.execute_reply": "2021-07-30T04:24:18.831000Z",
          "shell.execute_reply.started": "2021-07-30T03:52:04.135554Z"
        },
        "papermill": {
          "duration": 0.030908,
          "end_time": "2021-07-30T04:24:18.831697",
          "exception": false,
          "start_time": "2021-07-30T04:24:18.800789",
          "status": "completed"
        },
        "tags": [],
        "colab": {
          "base_uri": "https://localhost:8080/"
        },
        "id": "adequate-swimming",
        "outputId": "99f36f61-a32b-49d4-d02f-be2d05fd5eb7"
      },
      "source": [
        "print(train_data.shape)\n",
        "print(test_data.shape)"
      ],
      "id": "adequate-swimming",
      "execution_count": 10,
      "outputs": [
        {
          "output_type": "stream",
          "text": [
            "(156060, 4)\n",
            "(66292, 3)\n"
          ],
          "name": "stdout"
        }
      ]
    },
    {
      "cell_type": "code",
      "metadata": {
        "execution": {
          "iopub.execute_input": "2021-07-30T04:24:18.888204Z",
          "iopub.status.busy": "2021-07-30T04:24:18.887625Z",
          "iopub.status.idle": "2021-07-30T04:24:18.892034Z",
          "shell.execute_reply": "2021-07-30T04:24:18.892426Z",
          "shell.execute_reply.started": "2021-07-30T03:52:04.147035Z"
        },
        "papermill": {
          "duration": 0.035558,
          "end_time": "2021-07-30T04:24:18.892556",
          "exception": false,
          "start_time": "2021-07-30T04:24:18.856998",
          "status": "completed"
        },
        "tags": [],
        "colab": {
          "base_uri": "https://localhost:8080/"
        },
        "id": "absent-desperate",
        "outputId": "a959b5f5-37aa-40c3-d77a-5c89e2be665b"
      },
      "source": [
        "train_data.columns"
      ],
      "id": "absent-desperate",
      "execution_count": 154,
      "outputs": [
        {
          "output_type": "execute_result",
          "data": {
            "text/plain": [
              "Index(['PhraseId', 'SentenceId', 'Phrase', 'Sentiment'], dtype='object')"
            ]
          },
          "metadata": {
            "tags": []
          },
          "execution_count": 154
        }
      ]
    },
    {
      "cell_type": "code",
      "metadata": {
        "execution": {
          "iopub.execute_input": "2021-07-30T04:24:18.943535Z",
          "iopub.status.busy": "2021-07-30T04:24:18.943001Z",
          "iopub.status.idle": "2021-07-30T04:24:18.947868Z",
          "shell.execute_reply": "2021-07-30T04:24:18.948267Z",
          "shell.execute_reply.started": "2021-07-30T03:52:04.159041Z"
        },
        "papermill": {
          "duration": 0.032402,
          "end_time": "2021-07-30T04:24:18.948416",
          "exception": false,
          "start_time": "2021-07-30T04:24:18.916014",
          "status": "completed"
        },
        "tags": [],
        "colab": {
          "base_uri": "https://localhost:8080/"
        },
        "id": "following-christmas",
        "outputId": "631c7e6c-8138-4075-e0a4-8cfd6881442e"
      },
      "source": [
        "test_data.columns"
      ],
      "id": "following-christmas",
      "execution_count": 12,
      "outputs": [
        {
          "output_type": "execute_result",
          "data": {
            "text/plain": [
              "Index(['PhraseId', 'SentenceId', 'Phrase'], dtype='object')"
            ]
          },
          "metadata": {
            "tags": []
          },
          "execution_count": 12
        }
      ]
    },
    {
      "cell_type": "code",
      "metadata": {
        "id": "WR3NvlFBKxT_"
      },
      "source": [
        "train_data['Phrase']"
      ],
      "id": "WR3NvlFBKxT_",
      "execution_count": null,
      "outputs": []
    },
    {
      "cell_type": "markdown",
      "metadata": {
        "id": "43NV8kqzLCC8"
      },
      "source": [
        "For each text movie review, the model has to predict a label for the sentiment. We evaluate the outputs of the model on classification accuracy. The sentiment labels are:\n",
        "\n",
        "0 → Negative\n",
        "\n",
        "1 → Somewhat negative\n",
        "\n",
        "2 → Neutral\n",
        "\n",
        "3 → Somewhat positive\n",
        "\n",
        "4 → Positive"
      ],
      "id": "43NV8kqzLCC8"
    },
    {
      "cell_type": "code",
      "metadata": {
        "execution": {
          "iopub.execute_input": "2021-07-30T04:24:19.005549Z",
          "iopub.status.busy": "2021-07-30T04:24:19.004467Z",
          "iopub.status.idle": "2021-07-30T04:24:19.011787Z",
          "shell.execute_reply": "2021-07-30T04:24:19.012188Z",
          "shell.execute_reply.started": "2021-07-30T03:52:04.172229Z"
        },
        "papermill": {
          "duration": 0.036995,
          "end_time": "2021-07-30T04:24:19.012319",
          "exception": false,
          "start_time": "2021-07-30T04:24:18.975324",
          "status": "completed"
        },
        "tags": [],
        "colab": {
          "base_uri": "https://localhost:8080/"
        },
        "id": "regulation-titanium",
        "outputId": "eb9038f0-125a-4070-8634-8e50fa5195c3"
      },
      "source": [
        "print(train_data['Sentiment'].unique())\n",
        "train_data['Sentiment'].nunique()"
      ],
      "id": "regulation-titanium",
      "execution_count": 155,
      "outputs": [
        {
          "output_type": "stream",
          "text": [
            "[1 2 3 4 0]\n"
          ],
          "name": "stdout"
        },
        {
          "output_type": "execute_result",
          "data": {
            "text/plain": [
              "5"
            ]
          },
          "metadata": {
            "tags": []
          },
          "execution_count": 155
        }
      ]
    },
    {
      "cell_type": "code",
      "metadata": {
        "execution": {
          "iopub.execute_input": "2021-07-30T04:24:19.065392Z",
          "iopub.status.busy": "2021-07-30T04:24:19.064546Z",
          "iopub.status.idle": "2021-07-30T04:24:19.073487Z",
          "shell.execute_reply": "2021-07-30T04:24:19.072975Z",
          "shell.execute_reply.started": "2021-07-30T03:52:04.186648Z"
        },
        "papermill": {
          "duration": 0.036898,
          "end_time": "2021-07-30T04:24:19.073609",
          "exception": false,
          "start_time": "2021-07-30T04:24:19.036711",
          "status": "completed"
        },
        "tags": [],
        "colab": {
          "base_uri": "https://localhost:8080/"
        },
        "id": "stuffed-scholar",
        "outputId": "d6b268d1-bebe-4097-e523-2aa557650063"
      },
      "source": [
        "train_data['Sentiment'].value_counts()"
      ],
      "id": "stuffed-scholar",
      "execution_count": 16,
      "outputs": [
        {
          "output_type": "execute_result",
          "data": {
            "text/plain": [
              "2    79582\n",
              "3    32927\n",
              "1    27273\n",
              "4     9206\n",
              "0     7072\n",
              "Name: Sentiment, dtype: int64"
            ]
          },
          "metadata": {
            "tags": []
          },
          "execution_count": 16
        }
      ]
    },
    {
      "cell_type": "code",
      "metadata": {
        "execution": {
          "iopub.execute_input": "2021-07-30T04:24:19.130152Z",
          "iopub.status.busy": "2021-07-30T04:24:19.129442Z",
          "iopub.status.idle": "2021-07-30T04:24:20.338686Z",
          "shell.execute_reply": "2021-07-30T04:24:20.338128Z",
          "shell.execute_reply.started": "2021-07-30T03:52:04.198312Z"
        },
        "papermill": {
          "duration": 1.237664,
          "end_time": "2021-07-30T04:24:20.338822",
          "exception": false,
          "start_time": "2021-07-30T04:24:19.101158",
          "status": "completed"
        },
        "tags": [],
        "id": "durable-three"
      },
      "source": [
        "from tqdm import tqdm\n",
        "\n",
        "import nltk\n",
        "from nltk.tokenize import word_tokenize\n",
        "from nltk.stem import WordNetLemmatizer\n",
        "from nltk.corpus import stopwords\n",
        "\n",
        "import re"
      ],
      "id": "durable-three",
      "execution_count": 17,
      "outputs": []
    },
    {
      "cell_type": "code",
      "metadata": {
        "colab": {
          "base_uri": "https://localhost:8080/"
        },
        "id": "AyZPlMJSMHQt",
        "outputId": "37a69518-e056-4fb4-da57-33a070a4776b"
      },
      "source": [
        "nltk.download('punkt')"
      ],
      "id": "AyZPlMJSMHQt",
      "execution_count": 21,
      "outputs": [
        {
          "output_type": "stream",
          "text": [
            "[nltk_data] Downloading package punkt to /root/nltk_data...\n",
            "[nltk_data]   Unzipping tokenizers/punkt.zip.\n"
          ],
          "name": "stdout"
        },
        {
          "output_type": "execute_result",
          "data": {
            "text/plain": [
              "True"
            ]
          },
          "metadata": {
            "tags": []
          },
          "execution_count": 21
        }
      ]
    },
    {
      "cell_type": "code",
      "metadata": {
        "colab": {
          "base_uri": "https://localhost:8080/"
        },
        "id": "Qy4ESoAzMOZy",
        "outputId": "de88ef7a-50ef-4df8-c08f-2a0e66c21d86"
      },
      "source": [
        "nltk.download('wordnet')"
      ],
      "id": "Qy4ESoAzMOZy",
      "execution_count": 25,
      "outputs": [
        {
          "output_type": "stream",
          "text": [
            "[nltk_data] Downloading package wordnet to /root/nltk_data...\n",
            "[nltk_data]   Unzipping corpora/wordnet.zip.\n"
          ],
          "name": "stdout"
        },
        {
          "output_type": "execute_result",
          "data": {
            "text/plain": [
              "True"
            ]
          },
          "metadata": {
            "tags": []
          },
          "execution_count": 25
        }
      ]
    },
    {
      "cell_type": "code",
      "metadata": {
        "colab": {
          "base_uri": "https://localhost:8080/"
        },
        "id": "kpk_1LYHLqPk",
        "outputId": "28a7a66c-cfbc-4074-c372-a227734378bb"
      },
      "source": [
        "train_data['Phrase']"
      ],
      "id": "kpk_1LYHLqPk",
      "execution_count": 18,
      "outputs": [
        {
          "output_type": "execute_result",
          "data": {
            "text/plain": [
              "0         A series of escapades demonstrating the adage ...\n",
              "1         A series of escapades demonstrating the adage ...\n",
              "2                                                  A series\n",
              "3                                                         A\n",
              "4                                                    series\n",
              "                                ...                        \n",
              "156055                                            Hearst 's\n",
              "156056                            forced avuncular chortles\n",
              "156057                                   avuncular chortles\n",
              "156058                                            avuncular\n",
              "156059                                             chortles\n",
              "Name: Phrase, Length: 156060, dtype: object"
            ]
          },
          "metadata": {
            "tags": []
          },
          "execution_count": 18
        }
      ]
    },
    {
      "cell_type": "code",
      "metadata": {
        "execution": {
          "iopub.execute_input": "2021-07-30T04:24:20.396572Z",
          "iopub.status.busy": "2021-07-30T04:24:20.395891Z",
          "iopub.status.idle": "2021-07-30T04:24:20.399075Z",
          "shell.execute_reply": "2021-07-30T04:24:20.399520Z",
          "shell.execute_reply.started": "2021-07-30T03:52:05.398735Z"
        },
        "papermill": {
          "duration": 0.032497,
          "end_time": "2021-07-30T04:24:20.399651",
          "exception": false,
          "start_time": "2021-07-30T04:24:20.367154",
          "status": "completed"
        },
        "tags": [],
        "id": "parliamentary-constraint"
      },
      "source": [
        "def sentence_cleaning(df):\n",
        "    sentence = []\n",
        "    for sent in tqdm(df['Phrase']):\n",
        "        \n",
        "        text = re.sub(\"[^a-zA-Z]\",\" \",sent)\n",
        "        \n",
        "        word = word_tokenize(text.lower())\n",
        "        \n",
        "        lemmatizer = WordNetLemmatizer()\n",
        "        \n",
        "        lemm_word = [lemmatizer.lemmatize(i) for i in word]\n",
        "        \n",
        "        sentence.append(lemm_word)\n",
        "    return (sentence)"
      ],
      "id": "parliamentary-constraint",
      "execution_count": 23,
      "outputs": []
    },
    {
      "cell_type": "code",
      "metadata": {
        "execution": {
          "iopub.execute_input": "2021-07-30T04:24:20.454637Z",
          "iopub.status.busy": "2021-07-30T04:24:20.453681Z",
          "iopub.status.idle": "2021-07-30T04:25:00.136350Z",
          "shell.execute_reply": "2021-07-30T04:25:00.135888Z",
          "shell.execute_reply.started": "2021-07-30T03:52:05.406715Z"
        },
        "papermill": {
          "duration": 39.713271,
          "end_time": "2021-07-30T04:25:00.136478",
          "exception": false,
          "start_time": "2021-07-30T04:24:20.423207",
          "status": "completed"
        },
        "tags": [],
        "colab": {
          "base_uri": "https://localhost:8080/"
        },
        "id": "serious-georgia",
        "outputId": "63f89001-3386-4136-845d-f927ea7d5dd7"
      },
      "source": [
        "train_sent = sentence_cleaning(train_data)\n",
        "test_sent = sentence_cleaning(test_data)\n",
        "\n",
        "print(len(train_sent))\n",
        "print(len(test_sent))"
      ],
      "id": "serious-georgia",
      "execution_count": 26,
      "outputs": [
        {
          "output_type": "stream",
          "text": [
            "100%|██████████| 156060/156060 [00:21<00:00, 7349.46it/s]\n",
            "100%|██████████| 66292/66292 [00:07<00:00, 8517.98it/s]"
          ],
          "name": "stderr"
        },
        {
          "output_type": "stream",
          "text": [
            "156060\n",
            "66292\n"
          ],
          "name": "stdout"
        },
        {
          "output_type": "stream",
          "text": [
            "\n"
          ],
          "name": "stderr"
        }
      ]
    },
    {
      "cell_type": "code",
      "metadata": {
        "id": "9XpByvDTMcQM"
      },
      "source": [
        "test_sent"
      ],
      "id": "9XpByvDTMcQM",
      "execution_count": null,
      "outputs": []
    },
    {
      "cell_type": "code",
      "metadata": {
        "id": "u0sKXSp9Mmdv"
      },
      "source": [
        "from tensorflow.keras.utils import to_categorical\n"
      ],
      "id": "u0sKXSp9Mmdv",
      "execution_count": 30,
      "outputs": []
    },
    {
      "cell_type": "code",
      "metadata": {
        "execution": {
          "iopub.execute_input": "2021-07-30T04:25:00.373058Z",
          "iopub.status.busy": "2021-07-30T04:25:00.372543Z",
          "iopub.status.idle": "2021-07-30T04:25:00.382119Z",
          "shell.execute_reply": "2021-07-30T04:25:00.381713Z",
          "shell.execute_reply.started": "2021-07-30T03:52:43.944312Z"
        },
        "papermill": {
          "duration": 0.129558,
          "end_time": "2021-07-30T04:25:00.382228",
          "exception": false,
          "start_time": "2021-07-30T04:25:00.252670",
          "status": "completed"
        },
        "tags": [],
        "colab": {
          "base_uri": "https://localhost:8080/"
        },
        "id": "suitable-defendant",
        "outputId": "ab6ea896-1e71-4f94-a709-85fd7dba7930"
      },
      "source": [
        "target_col = train_data.Sentiment.values\n",
        "y_target = to_categorical(target_col)\n",
        "y_target.shape"
      ],
      "id": "suitable-defendant",
      "execution_count": 33,
      "outputs": [
        {
          "output_type": "execute_result",
          "data": {
            "text/plain": [
              "(156060, 5)"
            ]
          },
          "metadata": {
            "tags": []
          },
          "execution_count": 33
        }
      ]
    },
    {
      "cell_type": "code",
      "metadata": {
        "execution": {
          "iopub.execute_input": "2021-07-30T04:25:00.621820Z",
          "iopub.status.busy": "2021-07-30T04:25:00.620897Z",
          "iopub.status.idle": "2021-07-30T04:25:02.111837Z",
          "shell.execute_reply": "2021-07-30T04:25:02.111329Z",
          "shell.execute_reply.started": "2021-07-30T03:52:43.957111Z"
        },
        "papermill": {
          "duration": 1.613604,
          "end_time": "2021-07-30T04:25:02.111976",
          "exception": false,
          "start_time": "2021-07-30T04:25:00.498372",
          "status": "completed"
        },
        "tags": [],
        "id": "electronic-playback"
      },
      "source": [
        "from sklearn.model_selection import train_test_split\n",
        "X_train,X_val,y_train,y_val = train_test_split(train_sent,y_target,test_size = 0.2,stratify = y_target)"
      ],
      "id": "electronic-playback",
      "execution_count": 34,
      "outputs": []
    },
    {
      "cell_type": "code",
      "metadata": {
        "execution": {
          "iopub.execute_input": "2021-07-30T04:25:02.356753Z",
          "iopub.status.busy": "2021-07-30T04:25:02.356223Z",
          "iopub.status.idle": "2021-07-30T04:25:02.557918Z",
          "shell.execute_reply": "2021-07-30T04:25:02.557465Z",
          "shell.execute_reply.started": "2021-07-30T03:52:45.507682Z"
        },
        "papermill": {
          "duration": 0.322512,
          "end_time": "2021-07-30T04:25:02.558033",
          "exception": false,
          "start_time": "2021-07-30T04:25:02.235521",
          "status": "completed"
        },
        "tags": [],
        "colab": {
          "base_uri": "https://localhost:8080/"
        },
        "id": "compound-communist",
        "outputId": "7faf35d1-6754-4a9b-90f0-db4166734026"
      },
      "source": [
        "unique_words = set()\n",
        "max_len = 0\n",
        "for sent in tqdm(X_train):\n",
        "    unique_words.update(sent)\n",
        "    if(max_len < len(sent)):\n",
        "        max_len = len(sent)\n",
        "        sentence = sent"
      ],
      "id": "compound-communist",
      "execution_count": 35,
      "outputs": [
        {
          "output_type": "stream",
          "text": [
            "100%|██████████| 124848/124848 [00:00<00:00, 640598.83it/s]\n"
          ],
          "name": "stderr"
        }
      ]
    },
    {
      "cell_type": "code",
      "metadata": {
        "colab": {
          "base_uri": "https://localhost:8080/"
        },
        "id": "PwtdnY1bNX3d",
        "outputId": "320a1404-e79c-469e-8fe1-a56780adc1d0"
      },
      "source": [
        "len(list(unique_words))"
      ],
      "id": "PwtdnY1bNX3d",
      "execution_count": 156,
      "outputs": [
        {
          "output_type": "execute_result",
          "data": {
            "text/plain": [
              "13731"
            ]
          },
          "metadata": {
            "tags": []
          },
          "execution_count": 156
        }
      ]
    },
    {
      "cell_type": "code",
      "metadata": {
        "execution": {
          "iopub.execute_input": "2021-07-30T04:25:02.800335Z",
          "iopub.status.busy": "2021-07-30T04:25:02.799753Z",
          "iopub.status.idle": "2021-07-30T04:25:02.803180Z",
          "shell.execute_reply": "2021-07-30T04:25:02.802713Z",
          "shell.execute_reply.started": "2021-07-30T03:52:45.731009Z"
        },
        "papermill": {
          "duration": 0.126533,
          "end_time": "2021-07-30T04:25:02.803347",
          "exception": false,
          "start_time": "2021-07-30T04:25:02.676814",
          "status": "completed"
        },
        "tags": [],
        "id": "alive-argentina"
      },
      "source": [
        "vocabulary = len(list(unique_words))\n",
        "oov = '<OOV>'\n",
        "embedding_dim = 300\n",
        "padding = 'post'\n",
        "trunc = 'post'"
      ],
      "id": "alive-argentina",
      "execution_count": 37,
      "outputs": []
    },
    {
      "cell_type": "code",
      "metadata": {
        "id": "1-ut-zbmNh5u"
      },
      "source": [
        "from tensorflow.keras.preprocessing.text import Tokenizer\n",
        "from tensorflow.keras.preprocessing.sequence import pad_sequences"
      ],
      "id": "1-ut-zbmNh5u",
      "execution_count": 38,
      "outputs": []
    },
    {
      "cell_type": "code",
      "metadata": {
        "execution": {
          "iopub.execute_input": "2021-07-30T04:25:03.070583Z",
          "iopub.status.busy": "2021-07-30T04:25:03.065533Z",
          "iopub.status.idle": "2021-07-30T04:25:06.598644Z",
          "shell.execute_reply": "2021-07-30T04:25:06.598182Z",
          "shell.execute_reply.started": "2021-07-30T03:52:45.739598Z"
        },
        "papermill": {
          "duration": 3.678977,
          "end_time": "2021-07-30T04:25:06.598771",
          "exception": false,
          "start_time": "2021-07-30T04:25:02.919794",
          "status": "completed"
        },
        "tags": [],
        "id": "confidential-surfing"
      },
      "source": [
        "\n",
        "tokenizer = Tokenizer(num_words = vocabulary,oov_token = oov,char_level = False)\n",
        "tokenizer.fit_on_texts(list(X_train))\n",
        "X_train = tokenizer.texts_to_sequences(X_train)\n",
        "X_train = pad_sequences(X_train,maxlen = max_len,padding=padding,truncating = trunc)\n",
        "X_val = tokenizer.texts_to_sequences(X_val)\n",
        "X_val = pad_sequences(X_val,maxlen = max_len,padding=padding,truncating = trunc)\n",
        "X_test = tokenizer.texts_to_sequences(test_sent)\n",
        "X_test = pad_sequences(X_test,maxlen = max_len,padding=padding,truncating = trunc)"
      ],
      "id": "confidential-surfing",
      "execution_count": 39,
      "outputs": []
    },
    {
      "cell_type": "code",
      "metadata": {
        "execution": {
          "iopub.execute_input": "2021-07-30T04:25:06.837179Z",
          "iopub.status.busy": "2021-07-30T04:25:06.836524Z",
          "iopub.status.idle": "2021-07-30T04:25:06.839514Z",
          "shell.execute_reply": "2021-07-30T04:25:06.839918Z",
          "shell.execute_reply.started": "2021-07-30T03:52:49.383348Z"
        },
        "papermill": {
          "duration": 0.12399,
          "end_time": "2021-07-30T04:25:06.840048",
          "exception": false,
          "start_time": "2021-07-30T04:25:06.716058",
          "status": "completed"
        },
        "tags": [],
        "colab": {
          "base_uri": "https://localhost:8080/"
        },
        "id": "smaller-release",
        "outputId": "90b29264-ffb8-4da3-dc35-a56226894416"
      },
      "source": [
        "print(X_train.shape,X_test.shape,X_val.shape)"
      ],
      "id": "smaller-release",
      "execution_count": 40,
      "outputs": [
        {
          "output_type": "stream",
          "text": [
            "(124848, 48) (66292, 48) (31212, 48)\n"
          ],
          "name": "stdout"
        }
      ]
    },
    {
      "cell_type": "code",
      "metadata": {
        "execution": {
          "iopub.execute_input": "2021-07-30T04:25:07.078223Z",
          "iopub.status.busy": "2021-07-30T04:25:07.077255Z",
          "iopub.status.idle": "2021-07-30T04:25:07.079902Z",
          "shell.execute_reply": "2021-07-30T04:25:07.079472Z",
          "shell.execute_reply.started": "2021-07-30T03:52:49.391906Z"
        },
        "papermill": {
          "duration": 0.12427,
          "end_time": "2021-07-30T04:25:07.080011",
          "exception": false,
          "start_time": "2021-07-30T04:25:06.955741",
          "status": "completed"
        },
        "tags": [],
        "id": "champion-north"
      },
      "source": [
        "from keras.models import Sequential\n",
        "from keras.layers import Dense,Bidirectional,Activation,Dropout,LSTM,Embedding\n",
        "from keras.layers.embeddings import Embedding"
      ],
      "id": "champion-north",
      "execution_count": 41,
      "outputs": []
    },
    {
      "cell_type": "code",
      "metadata": {
        "execution": {
          "iopub.execute_input": "2021-07-30T04:25:07.319949Z",
          "iopub.status.busy": "2021-07-30T04:25:07.319429Z",
          "iopub.status.idle": "2021-07-30T04:25:08.197506Z",
          "shell.execute_reply": "2021-07-30T04:25:08.197096Z",
          "shell.execute_reply.started": "2021-07-30T03:52:49.401470Z"
        },
        "papermill": {
          "duration": 1.000582,
          "end_time": "2021-07-30T04:25:08.197623",
          "exception": false,
          "start_time": "2021-07-30T04:25:07.197041",
          "status": "completed"
        },
        "tags": [],
        "colab": {
          "base_uri": "https://localhost:8080/"
        },
        "id": "balanced-tunisia",
        "outputId": "2420dbd0-d456-4b9f-e176-892c99d703de"
      },
      "source": [
        "model = tf.keras.Sequential()\n",
        "model.add(Embedding(vocabulary,embedding_dim,input_length = max_len))\n",
        "model.add(Bidirectional(LSTM(128, dropout = 0.8, recurrent_dropout=0.8, return_sequences=True)))\n",
        "model.add(Bidirectional(LSTM(128,dropout = 0.5,recurrent_dropout=0.5,return_sequences=False)))\n",
        "model.add(Dense(64,activation='relu'))\n",
        "model.add(Dropout(0.4))\n",
        "model.add(Dense(5,activation='softmax'))\n",
        "model.compile(loss = 'categorical_crossentropy', optimizer = 'adam', metrics = ['accuracy'])\n",
        "\n"
      ],
      "id": "balanced-tunisia",
      "execution_count": 43,
      "outputs": [
        {
          "output_type": "stream",
          "text": [
            "WARNING:tensorflow:Layer lstm_2 will not use cuDNN kernels since it doesn't meet the criteria. It will use a generic GPU kernel as fallback when running on GPU.\n",
            "WARNING:tensorflow:Layer lstm_2 will not use cuDNN kernels since it doesn't meet the criteria. It will use a generic GPU kernel as fallback when running on GPU.\n",
            "WARNING:tensorflow:Layer lstm_2 will not use cuDNN kernels since it doesn't meet the criteria. It will use a generic GPU kernel as fallback when running on GPU.\n",
            "WARNING:tensorflow:Layer lstm_3 will not use cuDNN kernels since it doesn't meet the criteria. It will use a generic GPU kernel as fallback when running on GPU.\n",
            "WARNING:tensorflow:Layer lstm_3 will not use cuDNN kernels since it doesn't meet the criteria. It will use a generic GPU kernel as fallback when running on GPU.\n",
            "WARNING:tensorflow:Layer lstm_3 will not use cuDNN kernels since it doesn't meet the criteria. It will use a generic GPU kernel as fallback when running on GPU.\n"
          ],
          "name": "stdout"
        }
      ]
    },
    {
      "cell_type": "code",
      "metadata": {
        "execution": {
          "iopub.execute_input": "2021-07-30T04:25:08.445857Z",
          "iopub.status.busy": "2021-07-30T04:25:08.444992Z",
          "iopub.status.idle": "2021-07-30T04:25:08.457500Z",
          "shell.execute_reply": "2021-07-30T04:25:08.458167Z",
          "shell.execute_reply.started": "2021-07-30T03:52:50.329112Z"
        },
        "papermill": {
          "duration": 0.143963,
          "end_time": "2021-07-30T04:25:08.458353",
          "exception": false,
          "start_time": "2021-07-30T04:25:08.314390",
          "status": "completed"
        },
        "tags": [],
        "id": "corrected-exclusive"
      },
      "source": [
        "model.compile(loss = 'categorical_crossentropy',\n",
        "             optimizer = 'adam',\n",
        "             metrics = ['accuracy'])"
      ],
      "id": "corrected-exclusive",
      "execution_count": 44,
      "outputs": []
    },
    {
      "cell_type": "code",
      "metadata": {
        "execution": {
          "iopub.execute_input": "2021-07-30T04:25:08.859916Z",
          "iopub.status.busy": "2021-07-30T04:25:08.859096Z",
          "iopub.status.idle": "2021-07-30T04:51:57.567872Z",
          "shell.execute_reply": "2021-07-30T04:51:57.566745Z",
          "shell.execute_reply.started": "2021-07-30T03:52:50.344356Z"
        },
        "papermill": {
          "duration": 1608.908134,
          "end_time": "2021-07-30T04:51:57.568137",
          "exception": false,
          "start_time": "2021-07-30T04:25:08.660003",
          "status": "completed"
        },
        "tags": [],
        "colab": {
          "base_uri": "https://localhost:8080/"
        },
        "id": "coordinate-reunion",
        "outputId": "a7247b67-8db3-4f2f-a46a-c2e45f587b24"
      },
      "source": [
        "model.fit(X_train,y_train,validation_data = (X_val, y_val),epochs = 4,batch_size = 256,verbose = 1)"
      ],
      "id": "coordinate-reunion",
      "execution_count": 45,
      "outputs": [
        {
          "output_type": "stream",
          "text": [
            "Epoch 1/4\n",
            "488/488 [==============================] - 365s 726ms/step - loss: 1.0718 - accuracy: 0.5749 - val_loss: 0.8834 - val_accuracy: 0.6340\n",
            "Epoch 2/4\n",
            "488/488 [==============================] - 355s 728ms/step - loss: 0.8588 - accuracy: 0.6547 - val_loss: 0.8454 - val_accuracy: 0.6502\n",
            "Epoch 3/4\n",
            "488/488 [==============================] - 356s 730ms/step - loss: 0.8026 - accuracy: 0.6738 - val_loss: 0.8204 - val_accuracy: 0.6574\n",
            "Epoch 4/4\n",
            "488/488 [==============================] - 356s 730ms/step - loss: 0.7652 - accuracy: 0.6874 - val_loss: 0.8125 - val_accuracy: 0.6639\n"
          ],
          "name": "stdout"
        },
        {
          "output_type": "execute_result",
          "data": {
            "text/plain": [
              "<tensorflow.python.keras.callbacks.History at 0x7f9efafd97d0>"
            ]
          },
          "metadata": {
            "tags": []
          },
          "execution_count": 45
        }
      ]
    },
    {
      "cell_type": "code",
      "metadata": {
        "colab": {
          "base_uri": "https://localhost:8080/"
        },
        "id": "QqjRWWG0SnxW",
        "outputId": "55c67c12-7c57-4bd5-a55f-15462add992a"
      },
      "source": [
        "model.evaluate(X_val, y_val)"
      ],
      "id": "QqjRWWG0SnxW",
      "execution_count": 46,
      "outputs": [
        {
          "output_type": "stream",
          "text": [
            "976/976 [==============================] - 40s 40ms/step - loss: 0.8125 - accuracy: 0.6639\n"
          ],
          "name": "stdout"
        },
        {
          "output_type": "execute_result",
          "data": {
            "text/plain": [
              "[0.812545120716095, 0.663943350315094]"
            ]
          },
          "metadata": {
            "tags": []
          },
          "execution_count": 46
        }
      ]
    },
    {
      "cell_type": "code",
      "metadata": {
        "colab": {
          "base_uri": "https://localhost:8080/"
        },
        "id": "stj28g2uSCo4",
        "outputId": "083e888b-90ee-442e-d2a1-ba1b30b0d549"
      },
      "source": [
        "keras.models.save_model(model,\"/content/drive/MyDrive/sentiment analysis on movie reivew/sentiment.tf\")"
      ],
      "id": "stj28g2uSCo4",
      "execution_count": 72,
      "outputs": [
        {
          "output_type": "stream",
          "text": [
            "WARNING:absl:Found untraced functions such as embedding_1_layer_call_and_return_conditional_losses, embedding_1_layer_call_fn, dense_2_layer_call_and_return_conditional_losses, dense_2_layer_call_fn, dropout_1_layer_call_and_return_conditional_losses while saving (showing 5 of 20). These functions will not be directly callable after loading.\n"
          ],
          "name": "stderr"
        },
        {
          "output_type": "stream",
          "text": [
            "INFO:tensorflow:Assets written to: /content/drive/MyDrive/sentiment analysis on movie reivew/sentiment.tf/assets\n"
          ],
          "name": "stdout"
        },
        {
          "output_type": "stream",
          "text": [
            "INFO:tensorflow:Assets written to: /content/drive/MyDrive/sentiment analysis on movie reivew/sentiment.tf/assets\n"
          ],
          "name": "stderr"
        }
      ]
    },
    {
      "cell_type": "code",
      "metadata": {
        "colab": {
          "base_uri": "https://localhost:8080/"
        },
        "id": "yh3UUzJBb204",
        "outputId": "8709b8ac-121a-437d-8fdc-5de95ebf27b0"
      },
      "source": [
        "model.save('/content/drive/MyDrive/sentiment analysis on movie reivew/rnn_senti')"
      ],
      "id": "yh3UUzJBb204",
      "execution_count": 114,
      "outputs": [
        {
          "output_type": "stream",
          "text": [
            "WARNING:absl:Found untraced functions such as embedding_1_layer_call_and_return_conditional_losses, embedding_1_layer_call_fn, dense_2_layer_call_and_return_conditional_losses, dense_2_layer_call_fn, dropout_1_layer_call_and_return_conditional_losses while saving (showing 5 of 20). These functions will not be directly callable after loading.\n"
          ],
          "name": "stderr"
        },
        {
          "output_type": "stream",
          "text": [
            "INFO:tensorflow:Assets written to: /content/drive/MyDrive/sentiment analysis on movie reivew/rnn_senti_weights/assets\n"
          ],
          "name": "stdout"
        },
        {
          "output_type": "stream",
          "text": [
            "INFO:tensorflow:Assets written to: /content/drive/MyDrive/sentiment analysis on movie reivew/rnn_senti_weights/assets\n"
          ],
          "name": "stderr"
        }
      ]
    },
    {
      "cell_type": "code",
      "metadata": {
        "execution": {
          "iopub.execute_input": "2021-07-30T04:51:58.796382Z",
          "iopub.status.busy": "2021-07-30T04:51:58.794890Z",
          "iopub.status.idle": "2021-07-30T04:53:23.842886Z",
          "shell.execute_reply": "2021-07-30T04:53:23.841979Z",
          "shell.execute_reply.started": "2021-07-30T04:21:17.854475Z"
        },
        "papermill": {
          "duration": 85.663103,
          "end_time": "2021-07-30T04:53:23.843100",
          "exception": false,
          "start_time": "2021-07-30T04:51:58.179997",
          "status": "completed"
        },
        "tags": [],
        "id": "caroline-designer"
      },
      "source": [
        "y_pred = np.argmax(model.predict(X_test), axis = -1)\n",
        "#submission_df = pd.DataFrame({'PhraseId': test_data.PhraseId, 'Sentiment': y_pred})"
      ],
      "id": "caroline-designer",
      "execution_count": 51,
      "outputs": []
    },
    {
      "cell_type": "code",
      "metadata": {
        "colab": {
          "base_uri": "https://localhost:8080/"
        },
        "id": "2h-wIGn_Ua2Y",
        "outputId": "8bbcbaa9-fe69-44c9-ed5b-6a0ed0051f27"
      },
      "source": [
        "y_pred"
      ],
      "id": "2h-wIGn_Ua2Y",
      "execution_count": 52,
      "outputs": [
        {
          "output_type": "execute_result",
          "data": {
            "text/plain": [
              "array([2, 2, 2, ..., 1, 1, 1])"
            ]
          },
          "metadata": {
            "tags": []
          },
          "execution_count": 52
        }
      ]
    },
    {
      "cell_type": "code",
      "metadata": {
        "id": "iJiUGrtZaGE4"
      },
      "source": [
        "from tensorflow.keras.models import load_model\n"
      ],
      "id": "iJiUGrtZaGE4",
      "execution_count": 75,
      "outputs": []
    },
    {
      "cell_type": "code",
      "metadata": {
        "execution": {
          "iopub.execute_input": "2021-07-30T04:53:25.183744Z",
          "iopub.status.busy": "2021-07-30T04:53:25.182843Z",
          "iopub.status.idle": "2021-07-30T04:53:25.188019Z",
          "shell.execute_reply": "2021-07-30T04:53:25.187568Z",
          "shell.execute_reply.started": "2021-07-30T04:22:59.774331Z"
        },
        "papermill": {
          "duration": 0.680183,
          "end_time": "2021-07-30T04:53:25.188160",
          "exception": false,
          "start_time": "2021-07-30T04:53:24.507977",
          "status": "completed"
        },
        "tags": [],
        "id": "administrative-diving"
      },
      "source": [
        "m=load_model(\"/content/my_model\")"
      ],
      "id": "administrative-diving",
      "execution_count": 82,
      "outputs": []
    },
    {
      "cell_type": "markdown",
      "metadata": {
        "id": "L92k--0YeaoA"
      },
      "source": [
        "For each text movie review, the model has to predict a label for the sentiment. We evaluate the outputs of the model on classification accuracy. The sentiment labels are:\n",
        "\n",
        "0 → Negative\n",
        "\n",
        "1 → Somewhat negative\n",
        "\n",
        "2 → Neutral\n",
        "\n",
        "3 → Somewhat positive\n",
        "\n",
        "4 → Positive"
      ],
      "id": "L92k--0YeaoA"
    },
    {
      "cell_type": "code",
      "metadata": {
        "id": "5gPM-34PdbSO"
      },
      "source": [
        "def check(sent):\n",
        "  sentence=[]\n",
        "  text = re.sub(\"[^a-zA-Z]\",\" \",sent)\n",
        "        \n",
        "  word = word_tokenize(text.lower())\n",
        "  \n",
        "  lemmatizer = WordNetLemmatizer()\n",
        "  \n",
        "  lemm_word = [lemmatizer.lemmatize(i) for i in word]\n",
        "  \n",
        "  sentence.append(lemm_word)\n",
        "  return (sentence)"
      ],
      "id": "5gPM-34PdbSO",
      "execution_count": 92,
      "outputs": []
    },
    {
      "cell_type": "code",
      "metadata": {
        "id": "--PhTvapc2OB"
      },
      "source": [
        "t=check(\"worst movie\")"
      ],
      "id": "--PhTvapc2OB",
      "execution_count": 103,
      "outputs": []
    },
    {
      "cell_type": "code",
      "metadata": {
        "id": "W8KXJLyffsXf"
      },
      "source": [
        "l=[\"Great movie, I love it\", \"Bad movie, total waste of money\"]"
      ],
      "id": "W8KXJLyffsXf",
      "execution_count": 115,
      "outputs": []
    },
    {
      "cell_type": "code",
      "metadata": {
        "id": "K4dRUvUndqBy"
      },
      "source": [
        "o=tokenizer.texts_to_sequences(l)"
      ],
      "id": "K4dRUvUndqBy",
      "execution_count": 139,
      "outputs": []
    },
    {
      "cell_type": "code",
      "metadata": {
        "id": "5TZsmUtgd-bj"
      },
      "source": [
        "oo = pad_sequences(o,maxlen = max_len,padding=padding,truncating = trunc)"
      ],
      "id": "5TZsmUtgd-bj",
      "execution_count": 132,
      "outputs": []
    },
    {
      "cell_type": "code",
      "metadata": {
        "execution": {
          "iopub.execute_input": "2021-07-30T04:53:26.532267Z",
          "iopub.status.busy": "2021-07-30T04:53:26.531617Z",
          "iopub.status.idle": "2021-07-30T04:53:26.777598Z",
          "shell.execute_reply": "2021-07-30T04:53:26.777083Z",
          "shell.execute_reply.started": "2021-07-30T04:23:22.145789Z"
        },
        "papermill": {
          "duration": 0.923712,
          "end_time": "2021-07-30T04:53:26.777723",
          "exception": false,
          "start_time": "2021-07-30T04:53:25.854011",
          "status": "completed"
        },
        "tags": [],
        "id": "rising-technique"
      },
      "source": [
        "p=m.predict(oo)"
      ],
      "id": "rising-technique",
      "execution_count": 133,
      "outputs": []
    },
    {
      "cell_type": "code",
      "metadata": {
        "colab": {
          "base_uri": "https://localhost:8080/"
        },
        "id": "1zoxE1u1f4hg",
        "outputId": "db55f0e7-dab0-4a5e-fa99-059ee097224e"
      },
      "source": [
        "p"
      ],
      "id": "1zoxE1u1f4hg",
      "execution_count": 152,
      "outputs": [
        {
          "output_type": "execute_result",
          "data": {
            "text/plain": [
              "array([[3.3911208e-06, 7.7382610e-05, 9.5555093e-03, 3.6676446e-01,\n",
              "        6.2359923e-01],\n",
              "       [7.5057054e-01, 2.3065925e-01, 1.8729445e-02, 3.9151852e-05,\n",
              "        1.5903447e-06]], dtype=float32)"
            ]
          },
          "metadata": {
            "tags": []
          },
          "execution_count": 152
        }
      ]
    },
    {
      "cell_type": "code",
      "metadata": {
        "colab": {
          "base_uri": "https://localhost:8080/"
        },
        "id": "nLu1rNIWe9SN",
        "outputId": "ceb54c3a-70e1-4c3b-f98c-1a7ec4eba40a"
      },
      "source": [
        "np.argmax(p,axis=-1)"
      ],
      "id": "nLu1rNIWe9SN",
      "execution_count": 157,
      "outputs": [
        {
          "output_type": "execute_result",
          "data": {
            "text/plain": [
              "array([4, 0])"
            ]
          },
          "metadata": {
            "tags": []
          },
          "execution_count": 157
        }
      ]
    },
    {
      "cell_type": "code",
      "metadata": {
        "papermill": {
          "duration": 0.788723,
          "end_time": "2021-07-30T04:53:28.612571",
          "exception": false,
          "start_time": "2021-07-30T04:53:27.823848",
          "status": "completed"
        },
        "tags": [],
        "colab": {
          "base_uri": "https://localhost:8080/"
        },
        "id": "cathedral-doubt",
        "outputId": "d6851c20-8985-46c8-ff6e-a14f0c9493ba"
      },
      "source": [
        "np.argmax(p,axis=-1)"
      ],
      "id": "cathedral-doubt",
      "execution_count": 109,
      "outputs": [
        {
          "output_type": "execute_result",
          "data": {
            "text/plain": [
              "array([2, 2, 2, 2, 2, 2, 2, 2, 2])"
            ]
          },
          "metadata": {
            "tags": []
          },
          "execution_count": 109
        }
      ]
    },
    {
      "cell_type": "code",
      "metadata": {
        "id": "0t-iiIQ0eIBe"
      },
      "source": [
        ""
      ],
      "id": "0t-iiIQ0eIBe",
      "execution_count": null,
      "outputs": []
    }
  ]
}